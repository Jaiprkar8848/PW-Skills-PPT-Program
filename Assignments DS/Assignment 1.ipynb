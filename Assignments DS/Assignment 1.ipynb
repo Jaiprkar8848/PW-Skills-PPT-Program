{
 "cells": [
  {
   "cell_type": "markdown",
   "id": "ae8d7aae-613a-4bae-9cae-0d70d809d7c7",
   "metadata": {},
   "source": [
    "## Data : 06-07-2023"
   ]
  },
  {
   "cell_type": "markdown",
   "id": "34c189cd-2854-410d-a4ec-01da51d1243d",
   "metadata": {},
   "source": [
    "#### 1. Write a Python program to reverse a string without using any built-in string reversal functions."
   ]
  },
  {
   "cell_type": "code",
   "execution_count": 1,
   "id": "6fb1e341-74be-487d-84be-b1ec65b96c0d",
   "metadata": {},
   "outputs": [
    {
     "name": "stdout",
     "output_type": "stream",
     "text": [
      "olleh\n"
     ]
    }
   ],
   "source": [
    "s=\"hello\"\n",
    "print(s[::-1])"
   ]
  },
  {
   "cell_type": "markdown",
   "id": "0e7d9fce-a727-483a-9d88-2806a7f6291d",
   "metadata": {},
   "source": [
    "#### 2. Implement a function to check if a given string is a palindrome."
   ]
  },
  {
   "cell_type": "code",
   "execution_count": 2,
   "id": "75112d24-bcff-4518-bee2-12f1e683a3b5",
   "metadata": {},
   "outputs": [],
   "source": [
    "def checkPalindrome(s):\n",
    "    t=s[::-1]\n",
    "    if s==t:\n",
    "        return \"Palindrome\"\n",
    "    else:\n",
    "        return \"Not Palindrome\""
   ]
  },
  {
   "cell_type": "code",
   "execution_count": 3,
   "id": "00e82640-e2ce-42ae-a820-bd61d70724f4",
   "metadata": {},
   "outputs": [],
   "source": [
    "s=\"noon\""
   ]
  },
  {
   "cell_type": "code",
   "execution_count": 4,
   "id": "691ff1da-8c33-4573-a754-09b5516519bc",
   "metadata": {},
   "outputs": [
    {
     "data": {
      "text/plain": [
       "'Palindrome'"
      ]
     },
     "execution_count": 4,
     "metadata": {},
     "output_type": "execute_result"
    }
   ],
   "source": [
    "checkPalindrome(s)"
   ]
  },
  {
   "cell_type": "markdown",
   "id": "1bde7ffd-4fb2-4589-9085-fc44647eca49",
   "metadata": {},
   "source": [
    "#### 3. Write a program to find the largest element in a given list."
   ]
  },
  {
   "cell_type": "code",
   "execution_count": 6,
   "id": "a03d412c-a066-424d-a9e2-b36815add981",
   "metadata": {},
   "outputs": [
    {
     "name": "stdout",
     "output_type": "stream",
     "text": [
      "Largest is: 9\n"
     ]
    }
   ],
   "source": [
    "lst=[2,3,1,2,-1,3,2,9,4,6]\n",
    "\n",
    "largest=lst[0]\n",
    "for i in lst:\n",
    "    largest=max(largest,i)\n",
    "    \n",
    "print(\"Largest is:\",largest)"
   ]
  },
  {
   "cell_type": "markdown",
   "id": "0951a692-1663-4fe2-8649-5570971be943",
   "metadata": {},
   "source": [
    "#### 4. Implement a function to count the occurrence of each element in a list."
   ]
  },
  {
   "cell_type": "code",
   "execution_count": 12,
   "id": "1f7beebf-f48a-4791-b78a-0abea0c1555d",
   "metadata": {},
   "outputs": [],
   "source": [
    "def CountOccurences(lst):\n",
    "    lst_set=set(lst)\n",
    "    for i in lst_set:\n",
    "        count=0\n",
    "        for ele in lst:\n",
    "            if ele==i:\n",
    "                count+=1\n",
    "        print(i,\" :\",count)"
   ]
  },
  {
   "cell_type": "code",
   "execution_count": 13,
   "id": "264f1ea0-8f28-49ae-ad32-43089f0ab491",
   "metadata": {},
   "outputs": [
    {
     "name": "stdout",
     "output_type": "stream",
     "text": [
      "1  : 2\n",
      "2  : 4\n",
      "3  : 2\n",
      "4  : 1\n",
      "5  : 1\n"
     ]
    }
   ],
   "source": [
    "lst=[2,2,3,1,5,2,3,1,4,2]\n",
    "CountOccurences(lst)"
   ]
  },
  {
   "cell_type": "markdown",
   "id": "2bf2e29a-f641-4ff7-a823-cc2d00953d92",
   "metadata": {},
   "source": [
    "#### 5. Write a Python program to find the second largest number in a list."
   ]
  },
  {
   "cell_type": "code",
   "execution_count": 25,
   "id": "2ea9aac8-c5f8-45ff-8d9e-c8235f5d1fda",
   "metadata": {},
   "outputs": [
    {
     "name": "stdout",
     "output_type": "stream",
     "text": [
      "10\n",
      "Second Largest is : 9\n"
     ]
    }
   ],
   "source": [
    "lst=[2,3,1,2,-1,3,2,9,4,10]\n",
    "\n",
    "smax=lst[0]\n",
    "fmax=lst[0]\n",
    "for i in lst:\n",
    "    fmax=max(fmax,i)\n",
    "print(fmax)\n",
    "\n",
    "for i in lst:\n",
    "    if smax<i & i!=fmax:\n",
    "        smax=i\n",
    "        \n",
    "print(\"Second Largest is :\",smax)"
   ]
  },
  {
   "cell_type": "markdown",
   "id": "57a7bd44-bdfc-4081-a117-ff0fe8121596",
   "metadata": {},
   "source": [
    "#### 6. Implement a function to remove duplicate elements from a list."
   ]
  },
  {
   "cell_type": "code",
   "execution_count": 26,
   "id": "74823d68-4bb5-4b68-9ab2-a30e3aea62ba",
   "metadata": {},
   "outputs": [],
   "source": [
    "def removeDuplicates(lst):\n",
    "    lst=set(lst)\n",
    "    return lst"
   ]
  },
  {
   "cell_type": "code",
   "execution_count": 27,
   "id": "c2d66fee-52e6-4ecd-a33b-e7c08c752768",
   "metadata": {},
   "outputs": [
    {
     "data": {
      "text/plain": [
       "{-1, 1, 2, 3, 4, 9, 10}"
      ]
     },
     "execution_count": 27,
     "metadata": {},
     "output_type": "execute_result"
    }
   ],
   "source": [
    "lst=[2,3,1,2,-1,3,2,9,4,10]\n",
    "removeDuplicates(lst)"
   ]
  },
  {
   "cell_type": "markdown",
   "id": "c554da61-4441-4234-a73d-0c2237b294fc",
   "metadata": {},
   "source": [
    "#### 7. Write a program to calculate the factorial of a given number."
   ]
  },
  {
   "cell_type": "code",
   "execution_count": 32,
   "id": "b5bfd91e-d01b-4c08-8b43-8f6d21a1da30",
   "metadata": {},
   "outputs": [
    {
     "name": "stdout",
     "output_type": "stream",
     "text": [
      "Factorial of 5 is 120\n"
     ]
    }
   ],
   "source": [
    "n=5\n",
    "\n",
    "fact=1\n",
    "for i in range(2,n+1):\n",
    "    fact=fact*i\n",
    "    \n",
    "print(\"Factorial of\",n,\"is\",fact)"
   ]
  },
  {
   "cell_type": "markdown",
   "id": "78780d3f-bd8f-406f-9642-8a68d56c73b7",
   "metadata": {},
   "source": [
    "#### 8. Implement a function to check if a given number is prime."
   ]
  },
  {
   "cell_type": "code",
   "execution_count": 39,
   "id": "39332fb9-9e4d-48cc-adf2-3ca9a24b77b4",
   "metadata": {},
   "outputs": [],
   "source": [
    "def IsPrime(n):\n",
    "    flag=1\n",
    "    for i in range(2,int(n/2)+1):\n",
    "        if n%i==0:\n",
    "            flag=0\n",
    "            break\n",
    "    if flag==0:\n",
    "        print(\"No Prime\")\n",
    "    else:\n",
    "        print(\"Prime\")"
   ]
  },
  {
   "cell_type": "code",
   "execution_count": 44,
   "id": "9b8c4206-986b-4612-906a-67592473e2a9",
   "metadata": {},
   "outputs": [
    {
     "name": "stdout",
     "output_type": "stream",
     "text": [
      "Prime\n"
     ]
    }
   ],
   "source": [
    "n=5\n",
    "IsPrime(n)"
   ]
  },
  {
   "cell_type": "markdown",
   "id": "0bce2bb5-3de0-4ec6-86db-4865eb2beaec",
   "metadata": {},
   "source": [
    "#### 9. Write a Python program to sort a list of integers in ascending order."
   ]
  },
  {
   "cell_type": "code",
   "execution_count": 48,
   "id": "e594e46a-b164-47c0-9ae5-13601fea877e",
   "metadata": {},
   "outputs": [
    {
     "name": "stdout",
     "output_type": "stream",
     "text": [
      "[-1, 1, 3, 4, 6, 7, 9, 10, 23]\n"
     ]
    }
   ],
   "source": [
    "lst=[23,1,7,-1,3,6,9,4,10]\n",
    "print(sorted(lst))"
   ]
  },
  {
   "cell_type": "markdown",
   "id": "dbeffde6-2031-4745-afff-1de3ba8dce6b",
   "metadata": {},
   "source": [
    "#### 10. Implement a function to find the sum of all numbers in a list."
   ]
  },
  {
   "cell_type": "code",
   "execution_count": 49,
   "id": "f8968287-b710-4479-814f-d4e862112556",
   "metadata": {},
   "outputs": [],
   "source": [
    "def ListSum(lst):\n",
    "    sums=0\n",
    "    for i in lst:\n",
    "        sums=sums+i\n",
    "    return sums"
   ]
  },
  {
   "cell_type": "code",
   "execution_count": 50,
   "id": "0e162318-fbf4-4bbb-8790-b36d7ed3a993",
   "metadata": {},
   "outputs": [
    {
     "data": {
      "text/plain": [
       "62"
      ]
     },
     "execution_count": 50,
     "metadata": {},
     "output_type": "execute_result"
    }
   ],
   "source": [
    "lst=[23,1,7,-1,3,6,9,4,10]\n",
    "ListSum(lst)"
   ]
  },
  {
   "cell_type": "markdown",
   "id": "4f597d73-d81b-4b98-975e-803e5dd3bb45",
   "metadata": {},
   "source": [
    "#### 11. Write a program to find the common elements between two lists."
   ]
  },
  {
   "cell_type": "code",
   "execution_count": 52,
   "id": "f0d2181d-fd88-4134-82ad-c78b92c4ba8b",
   "metadata": {},
   "outputs": [
    {
     "name": "stdout",
     "output_type": "stream",
     "text": [
      "[2, 2, 3]\n"
     ]
    }
   ],
   "source": [
    "lst1=[1,2,2,3,4,5,6]\n",
    "lst2=[2,2,3,7,8,9]\n",
    "\n",
    "common=[i for i in lst1 if i in lst2]\n",
    "print(common)"
   ]
  },
  {
   "cell_type": "markdown",
   "id": "cfb6987b-e057-4025-a46b-b1d5a527d9c2",
   "metadata": {},
   "source": [
    "#### 12. Implement a function to check if a given string is an anagram of another string."
   ]
  },
  {
   "cell_type": "code",
   "execution_count": 53,
   "id": "29fd2b3a-7c09-4c61-bd23-8a4aaea6d652",
   "metadata": {},
   "outputs": [],
   "source": [
    "def IsAnagram(s,t):\n",
    "    s=sorted(s)\n",
    "    t=sorted(t)\n",
    "    if s==t:\n",
    "        return \"Anagram\"\n",
    "    else:\n",
    "        return \"Not Anagram\""
   ]
  },
  {
   "cell_type": "code",
   "execution_count": 54,
   "id": "1fe03441-3d07-43ca-a6f7-64dd936ed027",
   "metadata": {},
   "outputs": [
    {
     "data": {
      "text/plain": [
       "'Anagram'"
      ]
     },
     "execution_count": 54,
     "metadata": {},
     "output_type": "execute_result"
    }
   ],
   "source": [
    "str1=\"abcd\"\n",
    "str2=\"dbca\"\n",
    "IsAnagram(str1,str2)"
   ]
  },
  {
   "cell_type": "markdown",
   "id": "e7c95d6b-517f-4289-b6e0-1af1097abf39",
   "metadata": {},
   "source": [
    "#### 13. Write a Python program to generate all permutations of a given string."
   ]
  },
  {
   "cell_type": "code",
   "execution_count": 57,
   "id": "c773783d-4c9a-4ffe-83b6-ce675c066725",
   "metadata": {},
   "outputs": [],
   "source": [
    "def permute(s, answer):\n",
    "    if len(s) == 0:\n",
    "        print(answer)\n",
    "        return\n",
    "     \n",
    "    for i in range(len(s)):\n",
    "        ch = s[i]\n",
    "        left_substr = s[0:i]\n",
    "        right_substr = s[i + 1:]\n",
    "        rest = left_substr + right_substr\n",
    "        permute(rest, answer + ch)"
   ]
  },
  {
   "cell_type": "code",
   "execution_count": 58,
   "id": "968c79f6-bbf6-4e17-9e6e-76e964d24892",
   "metadata": {},
   "outputs": [
    {
     "name": "stdout",
     "output_type": "stream",
     "text": [
      "ABC\n",
      "ACB\n",
      "BAC\n",
      "BCA\n",
      "CAB\n",
      "CBA\n"
     ]
    }
   ],
   "source": [
    "s=\"ABC\"\n",
    "permute(s,\"\")"
   ]
  },
  {
   "cell_type": "markdown",
   "id": "5437962f-835d-4b40-ba3b-ac34e859f994",
   "metadata": {},
   "source": [
    "#### 14. Implement a function to calculate the Fibonacci sequence up to a given number of terms."
   ]
  },
  {
   "cell_type": "code",
   "execution_count": 63,
   "id": "782db0df-73c8-4c00-a2e3-160905e63f69",
   "metadata": {},
   "outputs": [],
   "source": [
    "def fib(n):\n",
    "    a=0\n",
    "    b=1\n",
    "    print(a)\n",
    "    print(b)\n",
    "    for i in range(2,n):\n",
    "        c=a+b\n",
    "        print(c)\n",
    "        a=b\n",
    "        b=c"
   ]
  },
  {
   "cell_type": "code",
   "execution_count": 65,
   "id": "d7b536ac-0fc8-46fd-8ed5-0b9c672c010d",
   "metadata": {},
   "outputs": [
    {
     "name": "stdout",
     "output_type": "stream",
     "text": [
      "0\n",
      "1\n",
      "1\n",
      "2\n",
      "3\n",
      "5\n",
      "8\n"
     ]
    }
   ],
   "source": [
    "fib(7)"
   ]
  },
  {
   "cell_type": "markdown",
   "id": "9d51b8ca-ccd0-417d-80ff-db66c6e3fc4a",
   "metadata": {},
   "source": [
    "#### 15. Write a program to find the median of a list of numbers."
   ]
  },
  {
   "cell_type": "code",
   "execution_count": 66,
   "id": "b4dbbb9e-df3f-4a73-b847-4c8aa9df627c",
   "metadata": {},
   "outputs": [
    {
     "name": "stdout",
     "output_type": "stream",
     "text": [
      "The original list : [4, 5, 8, 9, 10, 17]\n",
      "Median of list is : 8.5\n"
     ]
    }
   ],
   "source": [
    "test_list = [4, 5, 8, 9, 10, 17]\n",
    "print(\"The original list : \" + str(test_list))\n",
    "test_list.sort()\n",
    "mid = len(test_list) // 2\n",
    "res = (test_list[mid] + test_list[~mid]) / 2\n",
    "print(\"Median of list is : \" + str(res))"
   ]
  },
  {
   "cell_type": "markdown",
   "id": "5c45dd1b-5ab8-49c3-8bea-33cb534f2bb9",
   "metadata": {},
   "source": [
    "#### 16. Implement a function to check if a given list is sorted in non-decreasing order."
   ]
  },
  {
   "cell_type": "code",
   "execution_count": 69,
   "id": "c499040e-6b8f-4495-afc3-54248f091f08",
   "metadata": {},
   "outputs": [],
   "source": [
    "def isSorted(test_list):\n",
    "    flag = 0\n",
    "    if(test_list == sorted(test_list)):\n",
    "        flag = 1\n",
    "\n",
    "    # printing result\n",
    "    if (flag) :\n",
    "        print (\"Yes, List is sorted.\")\n",
    "    else :\n",
    "        print (\"No, List is not sorted.\")"
   ]
  },
  {
   "cell_type": "code",
   "execution_count": 70,
   "id": "7b406626-1a99-459a-b0e8-56202a26b2ec",
   "metadata": {},
   "outputs": [
    {
     "name": "stdout",
     "output_type": "stream",
     "text": [
      "Yes, List is sorted.\n"
     ]
    }
   ],
   "source": [
    "test_list = [1, 4, 5, 8, 10]\n",
    "isSorted(test_list)"
   ]
  },
  {
   "cell_type": "markdown",
   "id": "4fea4053-e9f6-4521-ad75-22f499e74e1b",
   "metadata": {},
   "source": [
    "#### 17. Write a Python program to find the intersection of two lists."
   ]
  },
  {
   "cell_type": "code",
   "execution_count": 72,
   "id": "7b5070be-27e5-4f1f-acea-bd7452c6f77a",
   "metadata": {},
   "outputs": [
    {
     "name": "stdout",
     "output_type": "stream",
     "text": [
      "[2, 3]\n"
     ]
    }
   ],
   "source": [
    "lst1=[1,2,3,4,5,6]\n",
    "lst2=[2,3,7,8,9]\n",
    "\n",
    "common=[i for i in lst1 if i in lst2]\n",
    "print(common)"
   ]
  },
  {
   "cell_type": "markdown",
   "id": "0b388dde-7e8a-4868-b432-41e88f6555f3",
   "metadata": {},
   "source": [
    "#### 18. Implement a function to find the maximum subarray sum in a given list."
   ]
  },
  {
   "cell_type": "code",
   "execution_count": 73,
   "id": "83ec1b58-c222-4f8f-a17e-9b2aec0c5d4b",
   "metadata": {},
   "outputs": [],
   "source": [
    "def max_subarray_sum(arr):\n",
    "    max_sum = float('-inf')  # Initialize with negative infinity\n",
    "    current_sum = 0\n",
    "\n",
    "    for num in arr:\n",
    "        current_sum = max(num, current_sum + num)\n",
    "        max_sum = max(max_sum, current_sum)\n",
    "\n",
    "    return max_sum"
   ]
  },
  {
   "cell_type": "code",
   "execution_count": 74,
   "id": "e0c63332-cc01-4492-acaa-5b57480789ba",
   "metadata": {},
   "outputs": [
    {
     "data": {
      "text/plain": [
       "21"
      ]
     },
     "execution_count": 74,
     "metadata": {},
     "output_type": "execute_result"
    }
   ],
   "source": [
    "lst1=[1,2,3,4,5,6]\n",
    "max_subarray_sum(lst1)"
   ]
  },
  {
   "cell_type": "markdown",
   "id": "e9671575-9f24-4fc4-b894-acfe7fec71e3",
   "metadata": {},
   "source": [
    "#### 19. Write a program to remove all vowels from a given string."
   ]
  },
  {
   "cell_type": "code",
   "execution_count": 77,
   "id": "788ab5b5-dd91-4c5a-a600-8a831b60f077",
   "metadata": {},
   "outputs": [],
   "source": [
    "def remove_vowels(string):\n",
    "    vowels = \"aeiouAEIOU\"\n",
    "    without_vowels = \"\"\n",
    "\n",
    "    for char in string:\n",
    "        if char not in vowels:\n",
    "            without_vowels += char\n",
    "\n",
    "    return without_vowels"
   ]
  },
  {
   "cell_type": "code",
   "execution_count": 78,
   "id": "bb1eb53f-9727-4322-aee6-153b1c5309ac",
   "metadata": {},
   "outputs": [
    {
     "data": {
      "text/plain": [
       "'Jprksh'"
      ]
     },
     "execution_count": 78,
     "metadata": {},
     "output_type": "execute_result"
    }
   ],
   "source": [
    "string=\"Jaiprakash\"\n",
    "remove_vowels(string)"
   ]
  },
  {
   "cell_type": "markdown",
   "id": "66263171-fb76-4abf-89ed-8f5c3bf8e21d",
   "metadata": {},
   "source": [
    "#### 20. Implement a function to reverse the order of words in a given sentence."
   ]
  },
  {
   "cell_type": "code",
   "execution_count": 79,
   "id": "6ade7afa-4fc5-4f86-8129-b42c2779db34",
   "metadata": {},
   "outputs": [],
   "source": [
    "def reverse_words(sentence):\n",
    "    words = sentence.split()  # Split the sentence into words\n",
    "    reversed_sentence = ' '.join(reversed(words))  # Reverse the order of words and join them back\n",
    "\n",
    "    return reversed_sentence"
   ]
  },
  {
   "cell_type": "code",
   "execution_count": 80,
   "id": "112aac17-558b-48b8-818f-e1936292d74f",
   "metadata": {},
   "outputs": [
    {
     "data": {
      "text/plain": [
       "'Welcome World! Hello,'"
      ]
     },
     "execution_count": 80,
     "metadata": {},
     "output_type": "execute_result"
    }
   ],
   "source": [
    "input_sentence = \"Hello, World! Welcome\"\n",
    "reverse_words(input_sentence)"
   ]
  },
  {
   "cell_type": "markdown",
   "id": "fd6ec65c-765c-4496-89cb-cef8e5d1088c",
   "metadata": {},
   "source": [
    "#### 21. Write a Python program to check if two strings are anagrams of each other."
   ]
  },
  {
   "cell_type": "code",
   "execution_count": 82,
   "id": "7429fa00-3062-4dbd-ab19-0c4743683723",
   "metadata": {},
   "outputs": [
    {
     "name": "stdout",
     "output_type": "stream",
     "text": [
      "Not Anagram\n"
     ]
    }
   ],
   "source": [
    "s=\"Jaip\"\n",
    "t=\"Paij\"\n",
    "s=sorted(s)\n",
    "t=sorted(t)\n",
    "if s==t:\n",
    "     print(\"Anagram\")\n",
    "else:\n",
    "     print(\"Not Anagram\")"
   ]
  },
  {
   "cell_type": "markdown",
   "id": "9e547e6a-f135-415e-ab4a-aed2b0bef848",
   "metadata": {},
   "source": [
    "#### 22. Implement a function to find the first non-repeating character in a string."
   ]
  },
  {
   "cell_type": "code",
   "execution_count": 84,
   "id": "cd0766c4-a180-4611-8f95-37a425c3ed0e",
   "metadata": {},
   "outputs": [],
   "source": [
    "def find_first_non_repeating_char(string):\n",
    "    char_counts = {}\n",
    "    \n",
    "    for char in string:\n",
    "        char_counts[char] = char_counts.get(char, 0) + 1\n",
    "    \n",
    "    for char in string:\n",
    "        if char_counts[char] == 1:\n",
    "            return char\n",
    "    \n",
    "    return None"
   ]
  },
  {
   "cell_type": "code",
   "execution_count": 85,
   "id": "b87d0d44-ef1f-4eba-9c74-5913d84d255a",
   "metadata": {},
   "outputs": [
    {
     "data": {
      "text/plain": [
       "'J'"
      ]
     },
     "execution_count": 85,
     "metadata": {},
     "output_type": "execute_result"
    }
   ],
   "source": [
    "string=\"Jaiprakash\"\n",
    "find_first_non_repeating_char(string)"
   ]
  },
  {
   "cell_type": "markdown",
   "id": "26bc8212-d2ce-4940-b51c-8d25418251c0",
   "metadata": {},
   "source": [
    "#### 23. Write a program to find the prime factors of a given number."
   ]
  },
  {
   "cell_type": "code",
   "execution_count": 86,
   "id": "ffde08fc-d925-45b5-9c9c-c1e6806a3171",
   "metadata": {},
   "outputs": [],
   "source": [
    "def prime_factors(n):\n",
    "    factors = []\n",
    "    i = 2\n",
    "\n",
    "    while i * i <= n:\n",
    "        if n % i == 0:\n",
    "            factors.append(i)\n",
    "            n //= i\n",
    "        else:\n",
    "            i += 1\n",
    "\n",
    "    if n > 1:\n",
    "        factors.append(n)\n",
    "\n",
    "    return factors"
   ]
  },
  {
   "cell_type": "code",
   "execution_count": 87,
   "id": "44a08541-dd82-497e-85e2-2919e86a971c",
   "metadata": {},
   "outputs": [
    {
     "data": {
      "text/plain": [
       "[2, 5]"
      ]
     },
     "execution_count": 87,
     "metadata": {},
     "output_type": "execute_result"
    }
   ],
   "source": [
    "n=10\n",
    "prime_factors(n)"
   ]
  },
  {
   "cell_type": "markdown",
   "id": "df115ba7-41a6-48c3-b658-00ebcada01a5",
   "metadata": {},
   "source": [
    "#### 24. Implement a function to check if a given number is a power of two."
   ]
  },
  {
   "cell_type": "code",
   "execution_count": 88,
   "id": "08f93f6c-7b0f-4173-85b8-4ccd6599d2ed",
   "metadata": {},
   "outputs": [],
   "source": [
    "def is_power_of_two(n):\n",
    "    if n <= 0:\n",
    "        return False\n",
    "    return (n & (n - 1)) == 0"
   ]
  },
  {
   "cell_type": "code",
   "execution_count": 89,
   "id": "99caff5f-e4f5-4226-8378-63d868a582f7",
   "metadata": {},
   "outputs": [
    {
     "data": {
      "text/plain": [
       "True"
      ]
     },
     "execution_count": 89,
     "metadata": {},
     "output_type": "execute_result"
    }
   ],
   "source": [
    "n=4\n",
    "is_power_of_two(n)"
   ]
  },
  {
   "cell_type": "markdown",
   "id": "c576cde0-7e2f-415d-8cb0-771d1a55315a",
   "metadata": {},
   "source": [
    "#### 25. Write a Python program to merge two sorted lists into a single sorted list."
   ]
  },
  {
   "cell_type": "code",
   "execution_count": 90,
   "id": "200d5945-30a3-439f-b0db-6a1c1d91870b",
   "metadata": {},
   "outputs": [],
   "source": [
    "def merge_sorted_lists(list1, list2):\n",
    "    merged_list = []\n",
    "    i, j = 0, 0\n",
    "\n",
    "    while i < len(list1) and j < len(list2):\n",
    "        if list1[i] <= list2[j]:\n",
    "            merged_list.append(list1[i])\n",
    "            i += 1\n",
    "        else:\n",
    "            merged_list.append(list2[j])\n",
    "            j += 1\n",
    "\n",
    "    # Add remaining elements from list1, if any\n",
    "    while i < len(list1):\n",
    "        merged_list.append(list1[i])\n",
    "        i += 1\n",
    "\n",
    "    # Add remaining elements from list2, if any\n",
    "    while j < len(list2):\n",
    "        merged_list.append(list2[j])\n",
    "        j += 1\n",
    "\n",
    "    return merged_list"
   ]
  },
  {
   "cell_type": "code",
   "execution_count": 91,
   "id": "64f6cc3a-638d-4749-9241-4f4099b71344",
   "metadata": {},
   "outputs": [
    {
     "data": {
      "text/plain": [
       "[1, 2, 3, 4, 5, 5, 3, 6, 6]"
      ]
     },
     "execution_count": 91,
     "metadata": {},
     "output_type": "execute_result"
    }
   ],
   "source": [
    "lst1=[1,2,3,4,5,6]\n",
    "lst2=[5,3,6]\n",
    "merge_sorted_lists(lst1,lst2)"
   ]
  },
  {
   "cell_type": "markdown",
   "id": "2de0ad8b-1060-4d59-a576-241ecf0ab716",
   "metadata": {},
   "source": [
    "#### 26. Implement a function to find the mode of a list of numbers."
   ]
  },
  {
   "cell_type": "code",
   "execution_count": 92,
   "id": "39946e6d-ae79-448b-9580-df6e6a4898f2",
   "metadata": {},
   "outputs": [],
   "source": [
    "from collections import Counter\n",
    "\n",
    "def find_mode(numbers):\n",
    "    # Count the occurrences of each number\n",
    "    counter = Counter(numbers)\n",
    "\n",
    "    # Find the number(s) with the maximum count\n",
    "    max_count = max(counter.values())\n",
    "    mode = [num for num, count in counter.items() if count == max_count]\n",
    "\n",
    "    return mode"
   ]
  },
  {
   "cell_type": "code",
   "execution_count": 94,
   "id": "0ff1859a-fe1e-4172-aada-868fbebfb0e1",
   "metadata": {},
   "outputs": [
    {
     "data": {
      "text/plain": [
       "[2]"
      ]
     },
     "execution_count": 94,
     "metadata": {},
     "output_type": "execute_result"
    }
   ],
   "source": [
    "lst=[2,1,3,2,4,4,5,62,2]\n",
    "find_mode(lst)"
   ]
  },
  {
   "cell_type": "markdown",
   "id": "0ac0f8d3-6c77-4d55-90c2-14502f3cd83f",
   "metadata": {},
   "source": [
    "#### 27. Write a program to find the greatest common divisor (GCD) of two numbers."
   ]
  },
  {
   "cell_type": "code",
   "execution_count": 95,
   "id": "c8665e6f-bea9-4af4-b2c3-e04339d09a77",
   "metadata": {},
   "outputs": [],
   "source": [
    "def gcd(a, b):\n",
    "    while b != 0:\n",
    "        a, b = b, a % b\n",
    "\n",
    "    return a"
   ]
  },
  {
   "cell_type": "code",
   "execution_count": 96,
   "id": "20170c78-1a4d-4125-8583-bc57fe4c3df6",
   "metadata": {},
   "outputs": [
    {
     "data": {
      "text/plain": [
       "2"
      ]
     },
     "execution_count": 96,
     "metadata": {},
     "output_type": "execute_result"
    }
   ],
   "source": [
    "gcd(2,6)"
   ]
  },
  {
   "cell_type": "markdown",
   "id": "77e66bd8-5ae3-4286-b44c-5c5b02439287",
   "metadata": {},
   "source": [
    "#### 28. Implement a function to calculate the square root of a given number."
   ]
  },
  {
   "cell_type": "code",
   "execution_count": 97,
   "id": "bb596a87-9005-4922-8883-a4491830f659",
   "metadata": {},
   "outputs": [],
   "source": [
    "def square_root(n):\n",
    "    if n < 0:\n",
    "        raise ValueError(\"Square root is undefined for negative numbers.\")\n",
    "    if n == 0:\n",
    "        return 0\n",
    "\n",
    "    x = n\n",
    "    y = (x + 1) // 2\n",
    "\n",
    "    while y < x:\n",
    "        x = y\n",
    "        y = (x + n // x) // 2\n",
    "\n",
    "    return x"
   ]
  },
  {
   "cell_type": "code",
   "execution_count": 98,
   "id": "257810e8-b632-4185-981e-ec0a9ca7357a",
   "metadata": {},
   "outputs": [
    {
     "data": {
      "text/plain": [
       "4"
      ]
     },
     "execution_count": 98,
     "metadata": {},
     "output_type": "execute_result"
    }
   ],
   "source": [
    "square_root(16)"
   ]
  },
  {
   "cell_type": "markdown",
   "id": "247a9766-f043-4088-8142-43439fd4d9bd",
   "metadata": {},
   "source": [
    "#### 29. Write a Python program to check if a given string is a valid palindrome ignoring non-alphanumeric characters."
   ]
  },
  {
   "cell_type": "code",
   "execution_count": 99,
   "id": "fc985baf-e401-4f75-adc2-60bfbec8c152",
   "metadata": {},
   "outputs": [],
   "source": [
    "import re\n",
    "\n",
    "def is_valid_palindrome(s):\n",
    "    cleaned_s = re.sub(r'[^a-zA-Z0-9]', '', s.lower())\n",
    "    return cleaned_s == cleaned_s[::-1]"
   ]
  },
  {
   "cell_type": "code",
   "execution_count": 100,
   "id": "22949e3b-15bb-4f60-9d38-92088389d312",
   "metadata": {},
   "outputs": [
    {
     "data": {
      "text/plain": [
       "True"
      ]
     },
     "execution_count": 100,
     "metadata": {},
     "output_type": "execute_result"
    }
   ],
   "source": [
    "is_valid_palindrome(\"noon\")"
   ]
  },
  {
   "cell_type": "markdown",
   "id": "c127e5cc-014c-476b-bc11-b33b20cec502",
   "metadata": {},
   "source": [
    "#### 30. Implement a function to find the minimum element in a rotated sorted list."
   ]
  },
  {
   "cell_type": "code",
   "execution_count": 101,
   "id": "5102b21b-05a2-4c9f-96e6-bd1972f89b38",
   "metadata": {},
   "outputs": [],
   "source": [
    "def find_minimum(nums):\n",
    "    left, right = 0, len(nums) - 1\n",
    "\n",
    "    while left < right:\n",
    "        mid = left + (right - left) // 2\n",
    "\n",
    "        if nums[mid] > nums[right]:\n",
    "            left = mid + 1\n",
    "        else:\n",
    "            right = mid\n",
    "\n",
    "    return nums[left]"
   ]
  },
  {
   "cell_type": "markdown",
   "id": "c6934654-752f-4c16-879a-bca74731b299",
   "metadata": {},
   "source": [
    "#### 31. Write a program to find the sum of all even numbers in a list."
   ]
  },
  {
   "cell_type": "code",
   "execution_count": 106,
   "id": "f187127d-67cd-49a4-912f-3442fc562f5c",
   "metadata": {},
   "outputs": [],
   "source": [
    "def sum_even_numbers(numbers):\n",
    "    return sum(num for num in numbers if num % 2 == 0)"
   ]
  },
  {
   "cell_type": "code",
   "execution_count": 107,
   "id": "84d8637d-c602-40fe-908a-141c6ef758fb",
   "metadata": {},
   "outputs": [
    {
     "data": {
      "text/plain": [
       "18"
      ]
     },
     "execution_count": 107,
     "metadata": {},
     "output_type": "execute_result"
    }
   ],
   "source": [
    "sum_even_numbers([2,4,21,12])"
   ]
  },
  {
   "cell_type": "markdown",
   "id": "061b46af-aafd-4ed4-b7f9-62f38ff5b5c0",
   "metadata": {},
   "source": [
    "#### 32. Implement a function to calculate the power of a number using recursion."
   ]
  },
  {
   "cell_type": "code",
   "execution_count": 108,
   "id": "51abcf0e-289a-4c5f-b58a-3bb796c3e994",
   "metadata": {},
   "outputs": [],
   "source": [
    "def power(base, exponent):\n",
    "    if exponent == 0:\n",
    "        return 1\n",
    "    elif exponent < 0:\n",
    "        return 1 / power(base, -exponent)\n",
    "    else:\n",
    "        return base * power(base, exponent - 1)"
   ]
  },
  {
   "cell_type": "code",
   "execution_count": 109,
   "id": "132bef4d-6d8c-46ff-82c7-730fbbc14569",
   "metadata": {},
   "outputs": [
    {
     "data": {
      "text/plain": [
       "8"
      ]
     },
     "execution_count": 109,
     "metadata": {},
     "output_type": "execute_result"
    }
   ],
   "source": [
    "power(2,3)"
   ]
  },
  {
   "cell_type": "markdown",
   "id": "572eb409-6081-43ec-9873-38fa2eafd90c",
   "metadata": {},
   "source": [
    "#### 33. Write a Python program to remove duplicates from a list while preserving the order."
   ]
  },
  {
   "cell_type": "code",
   "execution_count": 110,
   "id": "d1f1cbc2-4652-44c4-8209-09a65f17aef0",
   "metadata": {},
   "outputs": [],
   "source": [
    "def remove_duplicates(numbers):\n",
    "    unique_numbers = []\n",
    "    seen = set()\n",
    "\n",
    "    for num in numbers:\n",
    "        if num not in seen:\n",
    "            unique_numbers.append(num)\n",
    "            seen.add(num)\n",
    "\n",
    "    return unique_numbers"
   ]
  },
  {
   "cell_type": "markdown",
   "id": "19031990-5803-46a2-a9d4-c91a5cbff1d5",
   "metadata": {},
   "source": [
    "#### 34. Implement a function to find the longest common prefix among a list of strings."
   ]
  },
  {
   "cell_type": "code",
   "execution_count": 111,
   "id": "c4824368-3a6c-417a-a77f-dfe32a1688b5",
   "metadata": {},
   "outputs": [],
   "source": [
    "def longest_common_prefix(strings):\n",
    "    if not strings:\n",
    "        return \"\"\n",
    "\n",
    "    prefix = strings[0]\n",
    "\n",
    "    for string in strings[1:]:\n",
    "        while not string.startswith(prefix):\n",
    "            prefix = prefix[:-1]\n",
    "            if not prefix:\n",
    "                return \"\"\n",
    "\n",
    "    return prefix\n"
   ]
  },
  {
   "cell_type": "markdown",
   "id": "44260e2d-1e67-4f00-9829-cb3a7ce6d900",
   "metadata": {},
   "source": [
    "#### 35. Write a program to check if a given number is a perfect square."
   ]
  },
  {
   "cell_type": "code",
   "execution_count": 112,
   "id": "e1fd5c1f-281a-41dc-8047-49ea254e1250",
   "metadata": {},
   "outputs": [],
   "source": [
    "def is_perfect_square(n):\n",
    "    if n < 0:\n",
    "        return False\n",
    "\n",
    "    root = int(n ** 0.5)\n",
    "    return root * root == n"
   ]
  },
  {
   "cell_type": "code",
   "execution_count": 113,
   "id": "2dbdbfb1-89ad-4cc8-8d7a-cce9227f9eaf",
   "metadata": {},
   "outputs": [
    {
     "data": {
      "text/plain": [
       "True"
      ]
     },
     "execution_count": 113,
     "metadata": {},
     "output_type": "execute_result"
    }
   ],
   "source": [
    "is_perfect_square(4)"
   ]
  },
  {
   "cell_type": "markdown",
   "id": "b3364032-9934-47d5-89aa-a501dcb739ee",
   "metadata": {},
   "source": [
    "#### 36. Implement a function to calculate the product of all elements in a list."
   ]
  },
  {
   "cell_type": "code",
   "execution_count": 114,
   "id": "9302ee6b-320c-4e8e-8f24-405a8c4a7c42",
   "metadata": {},
   "outputs": [],
   "source": [
    "def product_of_elements(numbers):\n",
    "    if not numbers:\n",
    "        return 0\n",
    "\n",
    "    product = 1\n",
    "\n",
    "    for num in numbers:\n",
    "        product *= num\n",
    "\n",
    "    return product\n"
   ]
  },
  {
   "cell_type": "markdown",
   "id": "4c3cec73-c2ef-4a28-ad23-0db18e530507",
   "metadata": {},
   "source": [
    "#### 37. Write a Python program to reverse the order of words in a sentence while preserving the word order."
   ]
  },
  {
   "cell_type": "code",
   "execution_count": 115,
   "id": "c3ba4e24-c27f-4065-bd99-9d357754e5ba",
   "metadata": {},
   "outputs": [],
   "source": [
    "def reverse_words_in_sentence(sentence):\n",
    "    words = sentence.split()\n",
    "    reversed_sentence = ' '.join(words[::-1])\n",
    "    return reversed_sentence\n"
   ]
  },
  {
   "cell_type": "markdown",
   "id": "a8867a88-7f8b-42ed-8ed2-2f9fbcb9c53e",
   "metadata": {},
   "source": [
    "#### 38. Implement a function to find the missing number in a given list of consecutive numbers."
   ]
  },
  {
   "cell_type": "code",
   "execution_count": 117,
   "id": "e4b0daa3-ff95-4bde-871f-0d1e0cbb995e",
   "metadata": {},
   "outputs": [],
   "source": [
    "def find_missing_number(numbers):\n",
    "    n = len(numbers)\n",
    "    total_sum = (n + 1) * (numbers[0] + numbers[-1]) // 2\n",
    "    actual_sum = sum(numbers)\n",
    "    missing_number = total_sum - actual_sum\n",
    "    return missing_number\n"
   ]
  },
  {
   "cell_type": "markdown",
   "id": "8fbdf189-9868-46f0-8e04-e8c612e3f8a8",
   "metadata": {},
   "source": [
    "#### 39. Write a program to find the sum of digits of a given number."
   ]
  },
  {
   "cell_type": "code",
   "execution_count": 118,
   "id": "bf76a60c-a618-4334-9bd0-7a29d9555658",
   "metadata": {},
   "outputs": [],
   "source": [
    "def sum_of_digits(number):\n",
    "    return sum(int(digit) for digit in str(number) if digit.isdigit())"
   ]
  },
  {
   "cell_type": "markdown",
   "id": "dbb86a47-c335-4c78-84b4-80abbbb39209",
   "metadata": {},
   "source": [
    "#### 40. Implement a function to check if a given string is a valid palindrome considering case sensitivity."
   ]
  },
  {
   "cell_type": "code",
   "execution_count": 119,
   "id": "5d6d3623-f908-4410-83b9-c3cbd996eb35",
   "metadata": {},
   "outputs": [],
   "source": [
    "def is_valid_palindrome(s):\n",
    "    return s == s[::-1]"
   ]
  },
  {
   "cell_type": "markdown",
   "id": "f720730b-1fc7-4c81-9912-68b00c96ade1",
   "metadata": {},
   "source": [
    "#### 41. Write a Python program to find the smallest missing positive integer in a list."
   ]
  },
  {
   "cell_type": "code",
   "execution_count": 120,
   "id": "7c44b0bb-4503-48df-8420-09f5f3b08129",
   "metadata": {},
   "outputs": [],
   "source": [
    "def find_smallest_missing_positive(nums):\n",
    "    n = len(nums)\n",
    "    contains_one = False\n",
    "\n",
    "    for i in range(n):\n",
    "        if nums[i] == 1:\n",
    "            contains_one = True\n",
    "        elif nums[i] <= 0 or nums[i] > n:\n",
    "            nums[i] = 1\n",
    "\n",
    "    if not contains_one:\n",
    "        return 1\n",
    "\n",
    "    for i in range(n):\n",
    "        index = abs(nums[i]) - 1\n",
    "        if nums[index] > 0:\n",
    "            nums[index] = -nums[index]\n",
    "\n",
    "    for i in range(n):\n",
    "        if nums[i] > 0:\n",
    "            return i + 1\n",
    "\n",
    "    return n + 1"
   ]
  },
  {
   "cell_type": "markdown",
   "id": "990dbc2d-74a7-414b-aac9-21968216465a",
   "metadata": {},
   "source": [
    "#### 42. Implement a function to find the longest palindrome substring in a given string."
   ]
  },
  {
   "cell_type": "code",
   "execution_count": 121,
   "id": "080f3803-8836-4f3d-8e32-6e9df799162b",
   "metadata": {},
   "outputs": [],
   "source": [
    "def longest_palindrome(s):\n",
    "    longest = \"\"\n",
    "    n = len(s)\n",
    "\n",
    "    for i in range(n):\n",
    "        # Check for odd-length palindrome\n",
    "        left = right = i\n",
    "        while left >= 0 and right < n and s[left] == s[right]:\n",
    "            left -= 1\n",
    "            right += 1\n",
    "        odd_palindrome = s[left + 1:right]\n",
    "\n",
    "        # Check for even-length palindrome\n",
    "        left = i\n",
    "        right = i + 1\n",
    "        while left >= 0 and right < n and s[left] == s[right]:\n",
    "            left -= 1\n",
    "            right += 1\n",
    "        even_palindrome = s[left + 1:right]\n",
    "\n",
    "        if len(odd_palindrome) > len(longest):\n",
    "            longest = odd_palindrome\n",
    "        if len(even_palindrome) > len(longest):\n",
    "            longest = even_palindrome\n",
    "\n",
    "    return longest"
   ]
  },
  {
   "cell_type": "markdown",
   "id": "32cf6259-5cf3-4f4c-b9ca-50337ce463b5",
   "metadata": {},
   "source": [
    "#### 43. Write a program to find the number of occurrences of a given element in a list."
   ]
  },
  {
   "cell_type": "code",
   "execution_count": 122,
   "id": "64390181-13f9-493b-baa8-7ec240543b52",
   "metadata": {},
   "outputs": [],
   "source": [
    "def count_occurrences(numbers, target):\n",
    "    return numbers.count(target)"
   ]
  },
  {
   "cell_type": "markdown",
   "id": "6d981ab6-23e6-4e16-b4cd-765cdfb6988a",
   "metadata": {},
   "source": [
    "#### 44. Implement a function to check if a given number is a perfect number."
   ]
  },
  {
   "cell_type": "code",
   "execution_count": 123,
   "id": "ceaf644c-dddd-44da-8e16-56e5cbbeb143",
   "metadata": {},
   "outputs": [],
   "source": [
    "def is_perfect_number(number):\n",
    "    if number <= 0:\n",
    "        return False\n",
    "\n",
    "    divisors = [1]\n",
    "    for i in range(2, int(number ** 0.5) + 1):\n",
    "        if number % i == 0:\n",
    "            divisors.append(i)\n",
    "            if i != number // i:\n",
    "                divisors.append(number // i)\n",
    "\n",
    "    return sum(divisors) == number"
   ]
  },
  {
   "cell_type": "markdown",
   "id": "e9d6ca5c-6112-41ad-a873-ee7161bd507c",
   "metadata": {},
   "source": [
    "#### 45. Write a Python program to remove all duplicates from a string."
   ]
  },
  {
   "cell_type": "code",
   "execution_count": 124,
   "id": "048cc4b7-cfc1-45f1-99e4-e29c279cc245",
   "metadata": {},
   "outputs": [],
   "source": [
    "def remove_duplicates_from_string(s):\n",
    "    unique_chars = \"\"\n",
    "    seen = set()\n",
    "\n",
    "    for char in s:\n",
    "        if char not in seen:\n",
    "            unique_chars += char\n",
    "            seen.add(char)\n",
    "\n",
    "    return unique_chars\n"
   ]
  },
  {
   "cell_type": "markdown",
   "id": "6052ef15-c769-4c57-8acc-11d7d0ee1d35",
   "metadata": {},
   "source": [
    "#### 46. Implement a function to find the first missing positive"
   ]
  },
  {
   "cell_type": "code",
   "execution_count": 126,
   "id": "8dfc6628-71d8-478a-8a51-660976adc752",
   "metadata": {},
   "outputs": [],
   "source": [
    "def find_first_missing_positive(nums):\n",
    "    n = len(nums)\n",
    "    i = 0\n",
    "\n",
    "    while i < n:\n",
    "        if nums[i] != nums[nums[i] - 1]:\n",
    "            nums[nums[i] - 1], nums[i] = nums[i], nums[nums[i] - 1]\n",
    "        else:\n",
    "            i += 1\n",
    "\n",
    "    for i in range(n):\n",
    "        if nums[i] != i + 1:\n",
    "            return i + 1\n",
    "\n",
    "    return n + 1\n"
   ]
  }
 ],
 "metadata": {
  "kernelspec": {
   "display_name": "Python 3 (ipykernel)",
   "language": "python",
   "name": "python3"
  },
  "language_info": {
   "codemirror_mode": {
    "name": "ipython",
    "version": 3
   },
   "file_extension": ".py",
   "mimetype": "text/x-python",
   "name": "python",
   "nbconvert_exporter": "python",
   "pygments_lexer": "ipython3",
   "version": "3.10.9"
  }
 },
 "nbformat": 4,
 "nbformat_minor": 5
}
